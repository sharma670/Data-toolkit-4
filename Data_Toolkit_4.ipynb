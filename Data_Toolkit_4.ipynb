{
  "nbformat": 4,
  "nbformat_minor": 0,
  "metadata": {
    "colab": {
      "provenance": []
    },
    "kernelspec": {
      "name": "python3",
      "display_name": "Python 3"
    },
    "language_info": {
      "name": "python"
    }
  },
  "cells": [
    {
      "cell_type": "markdown",
      "source": [
        "1. What is NumPy, and why is it widely used in Python.?\n"
      ],
      "metadata": {
        "id": "F-aXilocbznI"
      }
    },
    {
      "cell_type": "markdown",
      "source": [
        "- NumPy (Numerical Python) is a powerful library for numerical computing. It provides:\n",
        "\n",
        "- Multidimensional arrays (ndarray)\n",
        "\n",
        "- Fast, vectorized operations\n",
        "\n",
        "- Useful mathematical, logical, and statistical functions\n",
        "\n",
        "- Foundation for libraries like Pandas, SciPy, Scikit-learn\n",
        "\n",
        "Why used: Speed, efficiency, and ease for numerical and matrix operations.\n",
        "\n"
      ],
      "metadata": {
        "id": "DSgvM_uScJUe"
      }
    },
    {
      "cell_type": "markdown",
      "source": [
        "2. How does broadcasting work in NumPy?"
      ],
      "metadata": {
        "id": "OsxyHWh5cxiJ"
      }
    },
    {
      "cell_type": "markdown",
      "source": [
        "- Broadcasting allows operations on arrays of different shapes. NumPy automatically stretches dimensions to match where possible."
      ],
      "metadata": {
        "id": "rPHNfsttc58l"
      }
    },
    {
      "cell_type": "code",
      "source": [
        "#Example\n",
        "import numpy as np\n",
        "a = np.array([1, 2, 3])\n",
        "b = np.array([[1], [2], [3]])\n",
        "a + b"
      ],
      "metadata": {
        "colab": {
          "base_uri": "https://localhost:8080/"
        },
        "id": "l8lV2vikdEBZ",
        "outputId": "4db98d21-0edf-4015-b458-41c484a9e363"
      },
      "execution_count": null,
      "outputs": [
        {
          "output_type": "execute_result",
          "data": {
            "text/plain": [
              "array([[2, 3, 4],\n",
              "       [3, 4, 5],\n",
              "       [4, 5, 6]])"
            ]
          },
          "metadata": {},
          "execution_count": 3
        }
      ]
    },
    {
      "cell_type": "markdown",
      "source": [
        "3.  What is a Pandas DataFrame?"
      ],
      "metadata": {
        "id": "isvUJyuKdhrm"
      }
    },
    {
      "cell_type": "markdown",
      "source": [
        "- A DataFrame is a 2D labeled data structure in Pandas (like an Excel table):\n",
        "\n",
        "- Columns can have different data types\n",
        "\n",
        "- Easy indexing, filtering, aggregation\n",
        "\n",
        "- Used for data cleaning, exploration, and analysis"
      ],
      "metadata": {
        "id": "S3BdmkYEdoZ2"
      }
    },
    {
      "cell_type": "markdown",
      "source": [
        "4. Explain the use of the groupby() method in Pandas."
      ],
      "metadata": {
        "id": "44CFowxXd0iy"
      }
    },
    {
      "cell_type": "markdown",
      "source": [
        "- groupby() is used for split-apply-combine operations:\n",
        "\n",
        "- Split the data into groups\n",
        "\n",
        "- Apply a function (e.g., sum, mean)\n",
        "\n",
        "Combine the results into a new DataFrame"
      ],
      "metadata": {
        "id": "e09tHldEd_iy"
      }
    },
    {
      "cell_type": "markdown",
      "source": [
        "5. Why is Seaborn preferred for statistical visualizations?"
      ],
      "metadata": {
        "id": "WFb5Ja8Heck7"
      }
    },
    {
      "cell_type": "markdown",
      "source": [
        "- Seaborn:\n",
        "\n",
        "- Built on top of Matplotlib\n",
        "\n",
        "- Comes with attractive default themes\n",
        "\n",
        "- High-level API for statistical plots like boxplot, violinplot, heatmap\n",
        "\n",
        "- Handles Pandas DataFrames well"
      ],
      "metadata": {
        "id": "0h3fQR_Yej5O"
      }
    },
    {
      "cell_type": "markdown",
      "source": [
        "6. Differences between NumPy arrays and Python lists?"
      ],
      "metadata": {
        "id": "AjSsQuM6euQu"
      }
    },
    {
      "cell_type": "markdown",
      "source": [
        "| Feature           | NumPy Array    | Python List    |\n",
        "| ----------------- | -------------- | -------------- |\n",
        "| Data Type         | Homogeneous    | Heterogeneous  |\n",
        "| Performance       | Faster         | Slower         |\n",
        "| Memory Efficiency | More efficient | Less efficient |\n",
        "| Vectorized Ops    | Yes            | No             |\n"
      ],
      "metadata": {
        "id": "6994M-n5e0zI"
      }
    },
    {
      "cell_type": "markdown",
      "source": [
        "7. What is a heatmap, and when should it be used?"
      ],
      "metadata": {
        "id": "fcXS8OOFfIpA"
      }
    },
    {
      "cell_type": "markdown",
      "source": [
        "- A heatmap is a color-coded matrix used to visualize:\n",
        "\n",
        "- Correlation matrices\n",
        "\n",
        "- Missing data\n",
        "\n",
        "- Pivoted data summaries\n",
        "\n",
        "- Use it to identify patterns, relationships, or anomalies."
      ],
      "metadata": {
        "id": "K8yMO4UsfLhr"
      }
    },
    {
      "cell_type": "markdown",
      "source": [
        "8. What does “vectorized operation” mean in NumPy?"
      ],
      "metadata": {
        "id": "A3PlKrb8fdUu"
      }
    },
    {
      "cell_type": "markdown",
      "source": [
        "Vectorized operations apply operations over entire arrays without explicit loops:"
      ],
      "metadata": {
        "id": "F0KqoyJQfh3t"
      }
    },
    {
      "cell_type": "code",
      "source": [
        "a = np.array([1, 2, 3])\n",
        "b = a * 2  # vectorized multiplication\n",
        "b"
      ],
      "metadata": {
        "colab": {
          "base_uri": "https://localhost:8080/"
        },
        "id": "WvmroyczfovW",
        "outputId": "5238b58c-e9e4-4ab2-9a4d-b09a4196521a"
      },
      "execution_count": null,
      "outputs": [
        {
          "output_type": "execute_result",
          "data": {
            "text/plain": [
              "array([2, 4, 6])"
            ]
          },
          "metadata": {},
          "execution_count": 6
        }
      ]
    },
    {
      "cell_type": "markdown",
      "source": [
        "9. How does Matplotlib differ from Plotly?"
      ],
      "metadata": {
        "id": "y0ESpGnzf6BH"
      }
    },
    {
      "cell_type": "markdown",
      "source": [
        "| Feature       | Matplotlib   | Plotly                    |\n",
        "| ------------- | ------------ | ------------------------- |\n",
        "| Interactivity | Static       | Interactive (zoom, hover) |\n",
        "| Complexity    | Low-level    | High-level                |\n",
        "| Use Case      | Simple plots | Dashboards, web apps      |\n"
      ],
      "metadata": {
        "id": "9Ftejl-1gAYK"
      }
    },
    {
      "cell_type": "markdown",
      "source": [
        "10. Significance of hierarchical indexing in Pandas?"
      ],
      "metadata": {
        "id": "Kg_ZATRSgC-c"
      }
    },
    {
      "cell_type": "markdown",
      "source": [
        "Hierarchical indexing allows multiple index levels (MultiIndex):\n",
        "\n",
        "- Enables working with higher-dimensional data in 2D form\n",
        "\n",
        "- Useful for grouped data, time-series, or panel data\n",
        "\n"
      ],
      "metadata": {
        "id": "rgRmCXgOgM_2"
      }
    },
    {
      "cell_type": "markdown",
      "source": [
        "11. Role of Seaborn’s pairplot() function?"
      ],
      "metadata": {
        "id": "gLo7ttJNgY_g"
      }
    },
    {
      "cell_type": "markdown",
      "source": [
        "- pairplot() creates a grid of scatter plots for all pairwise relationships in a DataFrame, along with histograms/ KDE plots on the diagonal.\n",
        "\n",
        "- Use case: Quick exploration of relationships between numerical variables."
      ],
      "metadata": {
        "id": "0bLUA7NhgfXO"
      }
    },
    {
      "cell_type": "markdown",
      "source": [
        "12. Purpose of the describe() function in Pandas?"
      ],
      "metadata": {
        "id": "mDbkoZYfgmti"
      }
    },
    {
      "cell_type": "markdown",
      "source": [
        "- describe() provides summary statistics for numeric columns:\n",
        "\n",
        "- Count, mean, std, min, max, quartiles\n",
        "\n"
      ],
      "metadata": {
        "id": "jrpNapHlgsRK"
      }
    },
    {
      "cell_type": "markdown",
      "source": [
        "13. why is handling missing data important in Pandas?"
      ],
      "metadata": {
        "id": "q0BFamAUg4Iw"
      }
    },
    {
      "cell_type": "markdown",
      "source": [
        "- Ensures analysis accuracy\n",
        "\n",
        "- Prevents errors in model training\n",
        "\n",
        "- Strategies: .fillna(), .dropna(), imputation\n",
        "\n"
      ],
      "metadata": {
        "id": "FkreayoMg_e3"
      }
    },
    {
      "cell_type": "markdown",
      "source": [
        "14. What are the benefits of using Plotly for data visualization.?"
      ],
      "metadata": {
        "id": "QasqFkZzhFwK"
      }
    },
    {
      "cell_type": "markdown",
      "source": [
        "- Interactive plots (zoom, pan, tooltips)\n",
        "\n",
        "- Web-ready, embeddable\n",
        "\n",
        "- Beautiful visuals out of the box\n",
        "\n",
        "- Supports 3D and geographic plotting\n",
        "\n"
      ],
      "metadata": {
        "id": "TQUBEQfnhOvm"
      }
    },
    {
      "cell_type": "markdown",
      "source": [
        "15.  How does NumPy handle multidimensional arrays?"
      ],
      "metadata": {
        "id": "6VagkvtlhYw5"
      }
    },
    {
      "cell_type": "markdown",
      "source": [
        "- NumPy uses ndarrays:\n",
        "\n",
        "- Arrays can be 1D, 2D, 3D, or nD\n",
        "\n",
        "- Shape and axis manipulation: .reshape(), .transpose(), .axis arguments"
      ],
      "metadata": {
        "id": "o_j6WcPyhmCm"
      }
    },
    {
      "cell_type": "markdown",
      "source": [
        "16. What is the role of Bokeh in data visualization.?"
      ],
      "metadata": {
        "id": "viDBxCq5htYq"
      }
    },
    {
      "cell_type": "markdown",
      "source": [
        "- Bokeh is a powerful interactive visualization library:\n",
        "\n",
        "- Web browser visualizations\n",
        "\n",
        "- Dashboard building\n",
        "\n",
        "- Real-time streaming data"
      ],
      "metadata": {
        "id": "fCw2a9FKpNKB"
      }
    },
    {
      "cell_type": "markdown",
      "source": [
        "17. Explain the difference between apply() and map() in Pandas."
      ],
      "metadata": {
        "id": "1eOIFLmVpd7x"
      }
    },
    {
      "cell_type": "markdown",
      "source": [
        "| Function  | Applies to          | Usage                                            |\n",
        "| --------- | ------------------- | ------------------------------------------------ |\n",
        "| `map()`   | Series              | Element-wise transformation                      |\n",
        "| `apply()` | Series or DataFrame | Applies a function across axis (rows or columns) |\n"
      ],
      "metadata": {
        "id": "G3RUVfAhpt1r"
      }
    },
    {
      "cell_type": "markdown",
      "source": [
        "18. What are some advanced features of NumPy."
      ],
      "metadata": {
        "id": "Iv7TttLLpzDK"
      }
    },
    {
      "cell_type": "markdown",
      "source": [
        "- Broadcasting\n",
        "\n",
        "- Masking and advanced indexing\n",
        "\n",
        "- Linear algebra (linalg)\n",
        "\n",
        "- Fourier transforms\n",
        "\n",
        "- Random number generation"
      ],
      "metadata": {
        "id": "4MjSDmR5p8Fp"
      }
    },
    {
      "cell_type": "markdown",
      "source": [
        "19. How does Pandas simplify time series analysis?"
      ],
      "metadata": {
        "id": "nODHpuE5qVbu"
      }
    },
    {
      "cell_type": "markdown",
      "source": [
        "- Date parsing and frequency handling\n",
        "\n",
        "- Resampling (resample())\n",
        "\n",
        "- Rolling statistics (rolling().mean())\n",
        "\n",
        "- Date/time indexing"
      ],
      "metadata": {
        "id": "_e9tP3hGqcyY"
      }
    },
    {
      "cell_type": "markdown",
      "source": [
        "20. What is the role of a pivot table in Pandas.?"
      ],
      "metadata": {
        "id": "6P5m42GsqkfH"
      }
    },
    {
      "cell_type": "markdown",
      "source": [
        "- pivot_table() summarizes data:\n",
        "\n",
        "- Aggregates (mean, sum, etc.) based on keys\n",
        "\n",
        "- Similar to Excel pivot tables\n",
        "\n",
        "df.pivot_table(index='Region', columns='Product', values='Sales', aggfunc='sum')\n"
      ],
      "metadata": {
        "id": "Vm8leH-4qqHA"
      }
    },
    {
      "cell_type": "markdown",
      "source": [],
      "metadata": {
        "id": "YzuV5K9Xq97u"
      }
    },
    {
      "cell_type": "markdown",
      "source": [
        "21. Why is NumPy’s array slicing faster than Python’s list slicing?"
      ],
      "metadata": {
        "id": "2NGRjt5prAf7"
      }
    },
    {
      "cell_type": "markdown",
      "source": [
        "- Arrays are contiguous in memory\n",
        "\n",
        "- Fixed data type and size\n",
        "\n",
        "- No type-checking overhead\n",
        "\n"
      ],
      "metadata": {
        "id": "Uzogy8VjrGes"
      }
    },
    {
      "cell_type": "markdown",
      "source": [
        "22. What are some common use cases for Seaborn?"
      ],
      "metadata": {
        "id": "oighjQD7rOB1"
      }
    },
    {
      "cell_type": "markdown",
      "source": [
        "- Visualizing distributions (distplot, histplot)\n",
        "\n",
        "- Showing relationships (scatterplot, pairplot)\n",
        "\n",
        "- Category comparisons (boxplot, violinplot)\n",
        "\n",
        "- Correlation matrices (heatmap)"
      ],
      "metadata": {
        "id": "SNcGBFgIrTC5"
      }
    },
    {
      "cell_type": "markdown",
      "source": [
        "**Practical Questions**"
      ],
      "metadata": {
        "id": "Wayrj9O1raqR"
      }
    },
    {
      "cell_type": "markdown",
      "source": [
        "1. How do you create a 2D NumPy array and calculate the sum of each row."
      ],
      "metadata": {
        "id": "DarbfpnSruho"
      }
    },
    {
      "cell_type": "code",
      "source": [
        "import numpy as np\n",
        "\n",
        "# Create a 2D NumPy array\n",
        "arr = np.array([[1, 2, 3],\n",
        "                [4, 5, 6],\n",
        "                [7, 8, 9]])\n",
        "\n",
        "row_sums = np.sum(arr, axis=1)\n",
        "\n",
        "print(\"2D Array:\\n\", arr)\n",
        "print(\"Sum of each row:\", row_sums)\n"
      ],
      "metadata": {
        "colab": {
          "base_uri": "https://localhost:8080/"
        },
        "id": "0oJGx4OBr5ER",
        "outputId": "12d1f588-5bae-48a2-c7e5-047d97ae9bdb"
      },
      "execution_count": null,
      "outputs": [
        {
          "output_type": "stream",
          "name": "stdout",
          "text": [
            "2D Array:\n",
            " [[1 2 3]\n",
            " [4 5 6]\n",
            " [7 8 9]]\n",
            "Sum of each row: [ 6 15 24]\n"
          ]
        }
      ]
    },
    {
      "cell_type": "markdown",
      "source": [
        "2. Write a Pandas script to find the mean of a specific column in a DataFrame."
      ],
      "metadata": {
        "id": "SQeYiJghtNO5"
      }
    },
    {
      "cell_type": "code",
      "source": [
        "import pandas as pd\n",
        "\n",
        "data = {'A': [10, 20, 30, 40, 50], 'B': [5, 15, 25, 35, 45]}\n",
        "df = pd.DataFrame(data)\n",
        "\n",
        "column_name = 'A'\n",
        "mean_value = df[column_name].mean()\n",
        "\n",
        "print(f\"The mean of column '{column_name}' is: {mean_value}\")"
      ],
      "metadata": {
        "colab": {
          "base_uri": "https://localhost:8080/"
        },
        "id": "62vM9YSotUU0",
        "outputId": "7622380e-72a3-4022-f5d9-69e456109b5c"
      },
      "execution_count": null,
      "outputs": [
        {
          "output_type": "stream",
          "name": "stdout",
          "text": [
            "The mean of column 'A' is: 30.0\n"
          ]
        }
      ]
    },
    {
      "cell_type": "markdown",
      "source": [
        "3. Create a scatter plot using Matplotlib."
      ],
      "metadata": {
        "id": "GqpTcO8dtn8p"
      }
    },
    {
      "cell_type": "code",
      "source": [
        "import matplotlib.pyplot as plt\n",
        "\n",
        "x = [1, 2, 3, 4, 5]\n",
        "y = [2, 4, 1, 3, 7]\n",
        "\n",
        "\n",
        "plt.scatter(x, y, color='blue', marker='o', s=100)\n",
        "\n",
        "plt.xlabel('X-axis')\n",
        "plt.ylabel('Y-axis')\n",
        "plt.title('Sample Scatter Plot')\n",
        "\n",
        "plt.grid(True)\n",
        "\n",
        "\n",
        "plt.show()\n"
      ],
      "metadata": {
        "colab": {
          "base_uri": "https://localhost:8080/",
          "height": 472
        },
        "id": "vg5fJkz_ttUo",
        "outputId": "d4f3e1c7-dbc9-4f52-b22c-351ee6e0c9d9"
      },
      "execution_count": null,
      "outputs": [
        {
          "output_type": "display_data",
          "data": {
            "text/plain": [
              "<Figure size 640x480 with 1 Axes>"
            ],
            "image/png": "[encoded data removed]"
          },
          "metadata": {}
        }
      ]
    },
    {
      "cell_type": "markdown",
      "source": [
        "4. How do you calculate the correlation matrix using Seaborn and visualize it with a heatmap."
      ],
      "metadata": {
        "id": "9ZKciddfuDPp"
      }
    },
    {
      "cell_type": "code",
      "source": [
        "import pandas as pd\n",
        "import seaborn as sns\n",
        "import matplotlib.pyplot as plt\n",
        "\n",
        "data = {\n",
        "    'Math': [90, 80, 70, 65, 85],\n",
        "    'Science': [88, 76, 90, 70, 80],\n",
        "    'English': [75, 85, 78, 60, 72]\n",
        "}\n",
        "df = pd.DataFrame(data)\n",
        "\n",
        "\n",
        "corr_matrix = df.corr()\n",
        "\n",
        "\n",
        "plt.figure(figsize=(8, 6))\n",
        "sns.heatmap(corr_matrix, annot=True, cmap='coolwarm', linewidths=0.5)\n",
        "\n",
        "\n",
        "plt.title('Correlation Matrix Heatmap')\n",
        "\n",
        "\n",
        "plt.show()\n"
      ],
      "metadata": {
        "colab": {
          "base_uri": "https://localhost:8080/",
          "height": 545
        },
        "id": "uvr2yvRduOg9",
        "outputId": "923e0ede-de96-4c27-a240-2c95a3f725bb"
      },
      "execution_count": null,
      "outputs": [
        {
          "output_type": "display_data",
          "data": {
            "text/plain": [
              "<Figure size 800x600 with 2 Axes>"
            ],
            "image/png": "[encoded data removed]"
          },
          "metadata": {}
        }
      ]
    },
    {
      "cell_type": "markdown",
      "source": [
        "5. Generate a bar plot using Plotly."
      ],
      "metadata": {
        "id": "v78AmnRxueyF"
      }
    },
    {
      "cell_type": "code",
      "source": [
        "import plotly.express as px\n",
        "\n",
        "\n",
        "data = {\n",
        "    'Subjects': ['Math', 'Science', 'English', 'History'],\n",
        "    'Scores': [85, 90, 78, 88]\n",
        "}\n",
        "\n",
        "\n",
        "fig = px.bar(data, x='Subjects', y='Scores', title='Student Scores by Subject',\n",
        "             labels={'Scores': 'Marks Obtained', 'Subjects': 'Subjects'},\n",
        "             color='Subjects')\n",
        "\n",
        "\n",
        "fig.show()\n"
      ],
      "metadata": {
        "colab": {
          "base_uri": "https://localhost:8080/",
          "height": 542
        },
        "id": "SwM_6LF1ul_1",
        "outputId": "48acbfa2-e61a-467b-c656-26fa401a14da"
      },
      "execution_count": null,
      "outputs": [
        {
          "output_type": "display_data",
          "data": {
            "text/html": [
              "<html>\n",
              "<head><meta charset=\"utf-8\" /></head>\n",
              "<body>\n",
              "    <div>            <script src=\"https://cdnjs.cloudflare.com/ajax/libs/mathjax/2.7.5/MathJax.js?config=TeX-AMS-MML_SVG\"></script><script type=\"text/javascript\">if (window.MathJax && window.MathJax.Hub && window.MathJax.Hub.Config) {window.MathJax.Hub.Config({SVG: {font: \"STIX-Web\"}});}</script>                <script type=\"text/javascript\">window.PlotlyConfig = {MathJaxConfig: 'local'};</script>\n",
              "        <script charset=\"utf-8\" src=\"https://cdn.plot.ly/plotly-2.35.2.min.js\"></script>                <div id=\"ecb30edd-512c-4bb6-ad23-48a0b6395fe5\" class=\"plotly-graph-div\" style=\"height:525px; width:100%;\"></div>            <script type=\"text/javascript\">                                    window.PLOTLYENV=window.PLOTLYENV || {};                                    if (document.getElementById(\"ecb30edd-512c-4bb6-ad23-48a0b6395fe5\")) {                    Plotly.newPlot(                        \"ecb30edd-512c-4bb6-ad23-48a0b6395fe5\",                        [{\"alignmentgroup\":\"True\",\"hovertemplate\":\"Subjects=%{x}\\u003cbr\\u003eMarks Obtained=%{y}\\u003cextra\\u003e\\u003c\\u002fextra\\u003e\",\"legendgroup\":\"Math\",\"marker\":{\"color\":\"#636efa\",\"pattern\":{\"shape\":\"\"}},\"name\":\"Math\",\"offsetgroup\":\"Math\",\"orientation\":\"v\",\"showlegend\":true,\"textposition\":\"auto\",\"x\":[\"Math\"],\"xaxis\":\"x\",\"y\":[85],\"yaxis\":\"y\",\"type\":\"bar\"},{\"alignmentgroup\":\"True\",\"hovertemplate\":\"Subjects=%{x}\\u003cbr\\u003eMarks Obtained=%{y}\\u003cextra\\u003e\\u003c\\u002fextra\\u003e\",\"legendgroup\":\"Science\",\"marker\":{\"color\":\"#EF553B\",\"pattern\":{\"shape\":\"\"}},\"name\":\"Science\",\"offsetgroup\":\"Science\",\"orientation\":\"v\",\"showlegend\":true,\"textposition\":\"auto\",\"x\":[\"Science\"],\"xaxis\":\"x\",\"y\":[90],\"yaxis\":\"y\",\"type\":\"bar\"},{\"alignmentgroup\":\"True\",\"hovertemplate\":\"Subjects=%{x}\\u003cbr\\u003eMarks Obtained=%{y}\\u003cextra\\u003e\\u003c\\u002fextra\\u003e\",\"legendgroup\":\"English\",\"marker\":{\"color\":\"#00cc96\",\"pattern\":{\"shape\":\"\"}},\"name\":\"English\",\"offsetgroup\":\"English\",\"orientation\":\"v\",\"showlegend\":true,\"textposition\":\"auto\",\"x\":[\"English\"],\"xaxis\":\"x\",\"y\":[78],\"yaxis\":\"y\",\"type\":\"bar\"},{\"alignmentgroup\":\"True\",\"hovertemplate\":\"Subjects=%{x}\\u003cbr\\u003eMarks Obtained=%{y}\\u003cextra\\u003e\\u003c\\u002fextra\\u003e\",\"legendgroup\":\"History\",\"marker\":{\"color\":\"#ab63fa\",\"pattern\":{\"shape\":\"\"}},\"name\":\"History\",\"offsetgroup\":\"History\",\"orientation\":\"v\",\"showlegend\":true,\"textposition\":\"auto\",\"x\":[\"History\"],\"xaxis\":\"x\",\"y\":[88],\"yaxis\":\"y\",\"type\":\"bar\"}],                        {\"template\":{\"data\":{\"histogram2dcontour\":[{\"type\":\"histogram2dcontour\",\"colorbar\":{\"outlinewidth\":0,\"ticks\":\"\"},\"colorscale\":[[0.0,\"#0d0887\"],[0.1111111111111111,\"#46039f\"],[0.2222222222222222,\"#7201a8\"],[0.3333333333333333,\"#9c179e\"],[0.4444444444444444,\"#bd3786\"],[0.5555555555555556,\"#d8576b\"],[0.6666666666666666,\"#ed7953\"],[0.7777777777777778,\"#fb9f3a\"],[0.8888888888888888,\"#fdca26\"],[1.0,\"#f0f921\"]]}],\"choropleth\":[{\"type\":\"choropleth\",\"colorbar\":{\"outlinewidth\":0,\"ticks\":\"\"}}],\"histogram2d\":[{\"type\":\"histogram2d\",\"colorbar\":{\"outlinewidth\":0,\"ticks\":\"\"},\"colorscale\":[[0.0,\"#0d0887\"],[0.1111111111111111,\"#46039f\"],[0.2222222222222222,\"#7201a8\"],[0.3333333333333333,\"#9c179e\"],[0.4444444444444444,\"#bd3786\"],[0.5555555555555556,\"#d8576b\"],[0.6666666666666666,\"#ed7953\"],[0.7777777777777778,\"#fb9f3a\"],[0.8888888888888888,\"#fdca26\"],[1.0,\"#f0f921\"]]}],\"heatmap\":[{\"type\":\"heatmap\",\"colorbar\":{\"outlinewidth\":0,\"ticks\":\"\"},\"colorscale\":[[0.0,\"#0d0887\"],[0.1111111111111111,\"#46039f\"],[0.2222222222222222,\"#7201a8\"],[0.3333333333333333,\"#9c179e\"],[0.4444444444444444,\"#bd3786\"],[0.5555555555555556,\"#d8576b\"],[0.6666666666666666,\"#ed7953\"],[0.7777777777777778,\"#fb9f3a\"],[0.8888888888888888,\"#fdca26\"],[1.0,\"#f0f921\"]]}],\"heatmapgl\":[{\"type\":\"heatmapgl\",\"colorbar\":{\"outlinewidth\":0,\"ticks\":\"\"},\"colorscale\":[[0.0,\"#0d0887\"],[0.1111111111111111,\"#46039f\"],[0.2222222222222222,\"#7201a8\"],[0.3333333333333333,\"#9c179e\"],[0.4444444444444444,\"#bd3786\"],[0.5555555555555556,\"#d8576b\"],[0.6666666666666666,\"#ed7953\"],[0.7777777777777778,\"#fb9f3a\"],[0.8888888888888888,\"#fdca26\"],[1.0,\"#f0f921\"]]}],\"contourcarpet\":[{\"type\":\"contourcarpet\",\"colorbar\":{\"outlinewidth\":0,\"ticks\":\"\"}}],\"contour\":[{\"type\":\"contour\",\"colorbar\":{\"outlinewidth\":0,\"ticks\":\"\"},\"colorscale\":[[0.0,\"#0d0887\"],[0.1111111111111111,\"#46039f\"],[0.2222222222222222,\"#7201a8\"],[0.3333333333333333,\"#9c179e\"],[0.4444444444444444,\"#bd3786\"],[0.5555555555555556,\"#d8576b\"],[0.6666666666666666,\"#ed7953\"],[0.7777777777777778,\"#fb9f3a\"],[0.8888888888888888,\"#fdca26\"],[1.0,\"#f0f921\"]]}],\"surface\":[{\"type\":\"surface\",\"colorbar\":{\"outlinewidth\":0,\"ticks\":\"\"},\"colorscale\":[[0.0,\"#0d0887\"],[0.1111111111111111,\"#46039f\"],[0.2222222222222222,\"#7201a8\"],[0.3333333333333333,\"#9c179e\"],[0.4444444444444444,\"#bd3786\"],[0.5555555555555556,\"#d8576b\"],[0.6666666666666666,\"#ed7953\"],[0.7777777777777778,\"#fb9f3a\"],[0.8888888888888888,\"#fdca26\"],[1.0,\"#f0f921\"]]}],\"mesh3d\":[{\"type\":\"mesh3d\",\"colorbar\":{\"outlinewidth\":0,\"ticks\":\"\"}}],\"scatter\":[{\"fillpattern\":{\"fillmode\":\"overlay\",\"size\":10,\"solidity\":0.2},\"type\":\"scatter\"}],\"parcoords\":[{\"type\":\"parcoords\",\"line\":{\"colorbar\":{\"outlinewidth\":0,\"ticks\":\"\"}}}],\"scatterpolargl\":[{\"type\":\"scatterpolargl\",\"marker\":{\"colorbar\":{\"outlinewidth\":0,\"ticks\":\"\"}}}],\"bar\":[{\"error_x\":{\"color\":\"#2a3f5f\"},\"error_y\":{\"color\":\"#2a3f5f\"},\"marker\":{\"line\":{\"color\":\"#E5ECF6\",\"width\":0.5},\"pattern\":{\"fillmode\":\"overlay\",\"size\":10,\"solidity\":0.2}},\"type\":\"bar\"}],\"scattergeo\":[{\"type\":\"scattergeo\",\"marker\":{\"colorbar\":{\"outlinewidth\":0,\"ticks\":\"\"}}}],\"scatterpolar\":[{\"type\":\"scatterpolar\",\"marker\":{\"colorbar\":{\"outlinewidth\":0,\"ticks\":\"\"}}}],\"histogram\":[{\"marker\":{\"pattern\":{\"fillmode\":\"overlay\",\"size\":10,\"solidity\":0.2}},\"type\":\"histogram\"}],\"scattergl\":[{\"type\":\"scattergl\",\"marker\":{\"colorbar\":{\"outlinewidth\":0,\"ticks\":\"\"}}}],\"scatter3d\":[{\"type\":\"scatter3d\",\"line\":{\"colorbar\":{\"outlinewidth\":0,\"ticks\":\"\"}},\"marker\":{\"colorbar\":{\"outlinewidth\":0,\"ticks\":\"\"}}}],\"scattermapbox\":[{\"type\":\"scattermapbox\",\"marker\":{\"colorbar\":{\"outlinewidth\":0,\"ticks\":\"\"}}}],\"scatterternary\":[{\"type\":\"scatterternary\",\"marker\":{\"colorbar\":{\"outlinewidth\":0,\"ticks\":\"\"}}}],\"scattercarpet\":[{\"type\":\"scattercarpet\",\"marker\":{\"colorbar\":{\"outlinewidth\":0,\"ticks\":\"\"}}}],\"carpet\":[{\"aaxis\":{\"endlinecolor\":\"#2a3f5f\",\"gridcolor\":\"white\",\"linecolor\":\"white\",\"minorgridcolor\":\"white\",\"startlinecolor\":\"#2a3f5f\"},\"baxis\":{\"endlinecolor\":\"#2a3f5f\",\"gridcolor\":\"white\",\"linecolor\":\"white\",\"minorgridcolor\":\"white\",\"startlinecolor\":\"#2a3f5f\"},\"type\":\"carpet\"}],\"table\":[{\"cells\":{\"fill\":{\"color\":\"#EBF0F8\"},\"line\":{\"color\":\"white\"}},\"header\":{\"fill\":{\"color\":\"#C8D4E3\"},\"line\":{\"color\":\"white\"}},\"type\":\"table\"}],\"barpolar\":[{\"marker\":{\"line\":{\"color\":\"#E5ECF6\",\"width\":0.5},\"pattern\":{\"fillmode\":\"overlay\",\"size\":10,\"solidity\":0.2}},\"type\":\"barpolar\"}],\"pie\":[{\"automargin\":true,\"type\":\"pie\"}]},\"layout\":{\"autotypenumbers\":\"strict\",\"colorway\":[\"#636efa\",\"#EF553B\",\"#00cc96\",\"#ab63fa\",\"#FFA15A\",\"#19d3f3\",\"#FF6692\",\"#B6E880\",\"#FF97FF\",\"#FECB52\"],\"font\":{\"color\":\"#2a3f5f\"},\"hovermode\":\"closest\",\"hoverlabel\":{\"align\":\"left\"},\"paper_bgcolor\":\"white\",\"plot_bgcolor\":\"#E5ECF6\",\"polar\":{\"bgcolor\":\"#E5ECF6\",\"angularaxis\":{\"gridcolor\":\"white\",\"linecolor\":\"white\",\"ticks\":\"\"},\"radialaxis\":{\"gridcolor\":\"white\",\"linecolor\":\"white\",\"ticks\":\"\"}},\"ternary\":{\"bgcolor\":\"#E5ECF6\",\"aaxis\":{\"gridcolor\":\"white\",\"linecolor\":\"white\",\"ticks\":\"\"},\"baxis\":{\"gridcolor\":\"white\",\"linecolor\":\"white\",\"ticks\":\"\"},\"caxis\":{\"gridcolor\":\"white\",\"linecolor\":\"white\",\"ticks\":\"\"}},\"coloraxis\":{\"colorbar\":{\"outlinewidth\":0,\"ticks\":\"\"}},\"colorscale\":{\"sequential\":[[0.0,\"#0d0887\"],[0.1111111111111111,\"#46039f\"],[0.2222222222222222,\"#7201a8\"],[0.3333333333333333,\"#9c179e\"],[0.4444444444444444,\"#bd3786\"],[0.5555555555555556,\"#d8576b\"],[0.6666666666666666,\"#ed7953\"],[0.7777777777777778,\"#fb9f3a\"],[0.8888888888888888,\"#fdca26\"],[1.0,\"#f0f921\"]],\"sequentialminus\":[[0.0,\"#0d0887\"],[0.1111111111111111,\"#46039f\"],[0.2222222222222222,\"#7201a8\"],[0.3333333333333333,\"#9c179e\"],[0.4444444444444444,\"#bd3786\"],[0.5555555555555556,\"#d8576b\"],[0.6666666666666666,\"#ed7953\"],[0.7777777777777778,\"#fb9f3a\"],[0.8888888888888888,\"#fdca26\"],[1.0,\"#f0f921\"]],\"diverging\":[[0,\"#8e0152\"],[0.1,\"#c51b7d\"],[0.2,\"#de77ae\"],[0.3,\"#f1b6da\"],[0.4,\"#fde0ef\"],[0.5,\"#f7f7f7\"],[0.6,\"#e6f5d0\"],[0.7,\"#b8e186\"],[0.8,\"#7fbc41\"],[0.9,\"#4d9221\"],[1,\"#276419\"]]},\"xaxis\":{\"gridcolor\":\"white\",\"linecolor\":\"white\",\"ticks\":\"\",\"title\":{\"standoff\":15},\"zerolinecolor\":\"white\",\"automargin\":true,\"zerolinewidth\":2},\"yaxis\":{\"gridcolor\":\"white\",\"linecolor\":\"white\",\"ticks\":\"\",\"title\":{\"standoff\":15},\"zerolinecolor\":\"white\",\"automargin\":true,\"zerolinewidth\":2},\"scene\":{\"xaxis\":{\"backgroundcolor\":\"#E5ECF6\",\"gridcolor\":\"white\",\"linecolor\":\"white\",\"showbackground\":true,\"ticks\":\"\",\"zerolinecolor\":\"white\",\"gridwidth\":2},\"yaxis\":{\"backgroundcolor\":\"#E5ECF6\",\"gridcolor\":\"white\",\"linecolor\":\"white\",\"showbackground\":true,\"ticks\":\"\",\"zerolinecolor\":\"white\",\"gridwidth\":2},\"zaxis\":{\"backgroundcolor\":\"#E5ECF6\",\"gridcolor\":\"white\",\"linecolor\":\"white\",\"showbackground\":true,\"ticks\":\"\",\"zerolinecolor\":\"white\",\"gridwidth\":2}},\"shapedefaults\":{\"line\":{\"color\":\"#2a3f5f\"}},\"annotationdefaults\":{\"arrowcolor\":\"#2a3f5f\",\"arrowhead\":0,\"arrowwidth\":1},\"geo\":{\"bgcolor\":\"white\",\"landcolor\":\"#E5ECF6\",\"subunitcolor\":\"white\",\"showland\":true,\"showlakes\":true,\"lakecolor\":\"white\"},\"title\":{\"x\":0.05},\"mapbox\":{\"style\":\"light\"}}},\"xaxis\":{\"anchor\":\"y\",\"domain\":[0.0,1.0],\"title\":{\"text\":\"Subjects\"},\"categoryorder\":\"array\",\"categoryarray\":[\"Math\",\"Science\",\"English\",\"History\"]},\"yaxis\":{\"anchor\":\"x\",\"domain\":[0.0,1.0],\"title\":{\"text\":\"Marks Obtained\"}},\"legend\":{\"title\":{\"text\":\"Subjects\"},\"tracegroupgap\":0},\"title\":{\"text\":\"Student Scores by Subject\"},\"barmode\":\"relative\"},                        {\"responsive\": true}                    ).then(function(){\n",
              "                            \n",
              "var gd = document.getElementById('ecb30edd-512c-4bb6-ad23-48a0b6395fe5');\n",
              "var x = new MutationObserver(function (mutations, observer) {{\n",
              "        var display = window.getComputedStyle(gd).display;\n",
              "        if (!display || display === 'none') {{\n",
              "            console.log([gd, 'removed!']);\n",
              "            Plotly.purge(gd);\n",
              "            observer.disconnect();\n",
              "        }}\n",
              "}});\n",
              "\n",
              "// Listen for the removal of the full notebook cells\n",
              "var notebookContainer = gd.closest('#notebook-container');\n",
              "if (notebookContainer) {{\n",
              "    x.observe(notebookContainer, {childList: true});\n",
              "}}\n",
              "\n",
              "// Listen for the clearing of the current output cell\n",
              "var outputEl = gd.closest('.output');\n",
              "if (outputEl) {{\n",
              "    x.observe(outputEl, {childList: true});\n",
              "}}\n",
              "\n",
              "                        })                };                            </script>        </div>\n",
              "</body>\n",
              "</html>"
            ]
          },
          "metadata": {}
        }
      ]
    },
    {
      "cell_type": "markdown",
      "source": [
        "6. Create a DataFrame and add a new column based on an existing column."
      ],
      "metadata": {
        "id": "1QC8WSf9vCGu"
      }
    },
    {
      "cell_type": "code",
      "source": [
        "import pandas as pd\n",
        "\n",
        "data = {\n",
        "    'Name': ['Alice', 'Bob', 'Charlie', 'David'],\n",
        "    'Marks': [85, 42, 77, 90]\n",
        "}\n",
        "df = pd.DataFrame(data)\n",
        "\n",
        "df['Result'] = df['Marks'].apply(lambda x: 'Pass' if x >= 50 else 'Fail')\n",
        "\n",
        "\n",
        "print(df)\n"
      ],
      "metadata": {
        "colab": {
          "base_uri": "https://localhost:8080/"
        },
        "id": "288vmigzvH9C",
        "outputId": "6e91477b-796e-430e-f035-2590eebe3b46"
      },
      "execution_count": null,
      "outputs": [
        {
          "output_type": "stream",
          "name": "stdout",
          "text": [
            "      Name  Marks Result\n",
            "0    Alice     85   Pass\n",
            "1      Bob     42   Fail\n",
            "2  Charlie     77   Pass\n",
            "3    David     90   Pass\n"
          ]
        }
      ]
    },
    {
      "cell_type": "markdown",
      "source": [
        "7. Write a program to perform element-wise multiplication of two NumPy arrays."
      ],
      "metadata": {
        "id": "P3DhOK6cvZ8h"
      }
    },
    {
      "cell_type": "code",
      "source": [
        "import numpy as np\n",
        "\n",
        "\n",
        "a = np.array([1, 2, 3, 4])\n",
        "b = np.array([5, 6, 7, 8])\n",
        "\n",
        "\n",
        "result = a * b\n",
        "\n",
        "\n",
        "print(\"Array a:\", a)\n",
        "print(\"Array b:\", b)\n",
        "print(\"Element-wise multiplication:\", result)\n"
      ],
      "metadata": {
        "colab": {
          "base_uri": "https://localhost:8080/"
        },
        "id": "2_Cc7Vcmvfku",
        "outputId": "749e89ef-f06f-44a0-c895-c058f13bd825"
      },
      "execution_count": null,
      "outputs": [
        {
          "output_type": "stream",
          "name": "stdout",
          "text": [
            "Array a: [1 2 3 4]\n",
            "Array b: [5 6 7 8]\n",
            "Element-wise multiplication: [ 5 12 21 32]\n"
          ]
        }
      ]
    },
    {
      "cell_type": "markdown",
      "source": [],
      "metadata": {
        "id": "ImYb29eGukLO"
      }
    },
    {
      "cell_type": "markdown",
      "source": [
        "8. Create a line plot with multiple lines using Matplotlib."
      ],
      "metadata": {
        "id": "x72J063lvtQ9"
      }
    },
    {
      "cell_type": "code",
      "source": [
        "import matplotlib.pyplot as plt\n",
        "\n",
        "x = [1, 2, 3, 4, 5]\n",
        "y1 = [2, 3, 5, 7, 11]\n",
        "y2 = [1, 4, 6, 8, 10]\n",
        "y3 = [3, 5, 2, 6, 9]\n",
        "\n",
        "plt.plot(x, y1, label='Line 1', color='blue', marker='o')\n",
        "plt.plot(x, y2, label='Line 2', color='green', marker='s')\n",
        "plt.plot(x, y3, label='Line 3', color='red', marker='^')\n",
        "\n",
        "\n",
        "plt.xlabel('X-axis')\n",
        "plt.ylabel('Y-axis')\n",
        "plt.title('Multiple Line Plot')\n",
        "\n",
        "\n",
        "plt.legend()\n",
        "\n",
        "\n",
        "plt.grid(True)\n",
        "\n",
        "\n",
        "plt.show()\n"
      ],
      "metadata": {
        "colab": {
          "base_uri": "https://localhost:8080/",
          "height": 472
        },
        "id": "e3wJjzhUvys_",
        "outputId": "e1e8f130-f3b4-49b5-f175-bc6321d65ca6"
      },
      "execution_count": null,
      "outputs": [
        {
          "output_type": "display_data",
          "data": {
            "text/plain": [
              "<Figure size 640x480 with 1 Axes>"
            ],
            "image/png": "[encoded data removed]"
          },
          "metadata": {}
        }
      ]
    },
    {
      "cell_type": "markdown",
      "source": [
        "9. Generate a Pandas DataFrame and filter rows where a column value is greater than a threshold."
      ],
      "metadata": {
        "id": "9EHvP2AwwPX5"
      }
    },
    {
      "cell_type": "code",
      "source": [
        "import pandas as pd\n",
        "\n",
        "data = {\n",
        "    'Name': ['Vikrant', 'Badal', 'Randlu', 'Vicky', 'Himanshi'],\n",
        "    'Score': [45, 82, 67, 90, 38]\n",
        "}\n",
        "df = pd.DataFrame(data)\n",
        "\n",
        "\n",
        "threshold = 60\n",
        "\n",
        "\n",
        "filtered_df = df[df['Score'] > threshold]\n",
        "\n",
        "\n",
        "print(\"Original DataFrame:\\n\", df)\n",
        "print(\"\\nFiltered DataFrame (Score > 60):\\n\", filtered_df)\n"
      ],
      "metadata": {
        "colab": {
          "base_uri": "https://localhost:8080/"
        },
        "id": "1BcZlRm7wWIr",
        "outputId": "e6008478-7dde-4ed6-b3d3-b03d755639e5"
      },
      "execution_count": null,
      "outputs": [
        {
          "output_type": "stream",
          "name": "stdout",
          "text": [
            "Original DataFrame:\n",
            "        Name  Score\n",
            "0   Vikrant     45\n",
            "1     Badal     82\n",
            "2    Randlu     67\n",
            "3     Vicky     90\n",
            "4  Himanshi     38\n",
            "\n",
            "Filtered DataFrame (Score > 60):\n",
            "      Name  Score\n",
            "1   Badal     82\n",
            "2  Randlu     67\n",
            "3   Vicky     90\n"
          ]
        }
      ]
    },
    {
      "cell_type": "markdown",
      "source": [
        "10. Create a histogram using Seaborn to visualize a distribution."
      ],
      "metadata": {
        "id": "T7dRag5Koxib"
      }
    },
    {
      "cell_type": "code",
      "source": [
        "import seaborn as sns\n",
        "import matplotlib.pyplot as plt\n",
        "import numpy as np\n",
        "\n",
        "\n",
        "data = np.random.randn(1000)\n",
        "\n",
        "\n",
        "sns.histplot(data, bins=30, kde=True, color='skyblue')\n",
        "\n",
        "\n",
        "plt.title('Distribution of Random Data')\n",
        "plt.xlabel('Value')\n",
        "plt.ylabel('Frequency')\n",
        "\n",
        "plt.show()\n"
      ],
      "metadata": {
        "colab": {
          "base_uri": "https://localhost:8080/",
          "height": 472
        },
        "id": "pbIWQ2tFpKaZ",
        "outputId": "a46074f6-3d69-45cb-d6c0-900004527982"
      },
      "execution_count": 1,
      "outputs": [
        {
          "output_type": "display_data",
          "data": {
            "text/plain": [
              "<Figure size 640x480 with 1 Axes>"
            ],
            "image/png": "[encoded data removed]"
          },
          "metadata": {}
        }
      ]
    },
    {
      "cell_type": "markdown",
      "source": [
        "11. Perform matrix multiplication using NumPy."
      ],
      "metadata": {
        "id": "w3xvjkrwpvjP"
      }
    },
    {
      "cell_type": "code",
      "source": [
        "import numpy as np\n",
        "\n",
        "\n",
        "A = np.array([[1, 2],\n",
        "              [3, 4]])\n",
        "\n",
        "B = np.array([[5, 6],\n",
        "              [7, 8]])\n",
        "\n",
        "\n",
        "result = np.matmul(A, B)\n",
        "\n",
        "\n",
        "print(\"Matrix A:\\n\", A)\n",
        "print(\"Matrix B:\\n\", B)\n",
        "print(\"Matrix Multiplication Result:\\n\", result)\n"
      ],
      "metadata": {
        "colab": {
          "base_uri": "https://localhost:8080/"
        },
        "id": "_8xIDQXMp07U",
        "outputId": "84c7ebf2-6795-4381-e543-0b544f3d6e38"
      },
      "execution_count": 2,
      "outputs": [
        {
          "output_type": "stream",
          "name": "stdout",
          "text": [
            "Matrix A:\n",
            " [[1 2]\n",
            " [3 4]]\n",
            "Matrix B:\n",
            " [[5 6]\n",
            " [7 8]]\n",
            "Matrix Multiplication Result:\n",
            " [[19 22]\n",
            " [43 50]]\n"
          ]
        }
      ]
    },
    {
      "cell_type": "markdown",
      "source": [
        "12. Use Pandas to load a CSV file and display its first 5 rows."
      ],
      "metadata": {
        "id": "P58u-Y78qFbq"
      }
    },
    {
      "cell_type": "code",
      "source": [
        "import pandas as pd\n",
        "\n",
        "\n",
        "df = pd.read_csv('services.csv')\n",
        "df\n",
        "\n",
        "print(df.head())\n"
      ],
      "metadata": {
        "colab": {
          "base_uri": "https://localhost:8080/"
        },
        "id": "KRg_bc7kqLFj",
        "outputId": "8b087571-2c49-48e8-ada1-8ac6a2319b3c"
      },
      "execution_count": 12,
      "outputs": [
        {
          "output_type": "stream",
          "name": "stdout",
          "text": [
            "                    Service  Custodian  \\\n",
            "0           Adapt a vehicle  Not known   \n",
            "1             Adopt a child  Not known   \n",
            "2      Apply for a passport  Not known   \n",
            "3    Be re-setted in the UK  Not known   \n",
            "4  Become a British citizen  Not known   \n",
            "\n",
            "                                        Delivered by              Policy area  \n",
            "0                                          DVLA DVSA                  driving  \n",
            "1  Courts-Tribunals-Service DfE Passport-Office l...  childcare-and-parenting  \n",
            "2                                    Passport-Office    visas-and-immigration  \n",
            "3                       Home-Office local-government    visas-and-immigration  \n",
            "4                                        Home-Office    visas-and-immigration  \n"
          ]
        }
      ]
    },
    {
      "cell_type": "markdown",
      "source": [],
      "metadata": {
        "id": "hcHOqXqvw4Xw"
      }
    },
    {
      "cell_type": "markdown",
      "source": [
        "13. Create a 3D scatter plot using Plotly."
      ],
      "metadata": {
        "id": "luThhVk9umSk"
      }
    },
    {
      "cell_type": "code",
      "source": [
        "import plotly.express as px\n",
        "import pandas as pd\n",
        "import numpy as np\n",
        "\n",
        "\n",
        "np.random.seed(42)\n",
        "df = pd.DataFrame({\n",
        "    'x': np.random.randn(100),\n",
        "    'y': np.random.randn(100),\n",
        "    'z': np.random.randn(100),\n",
        "    'category': np.random.choice(['A', 'B'], size=100)\n",
        "})\n",
        "\n",
        "\n",
        "fig = px.scatter_3d(df, x='x', y='y', z='z',\n",
        "                    color='category',\n",
        "                    title='3D Scatter Plot Example')\n",
        "\n",
        "\n",
        "fig.show()\n"
      ],
      "metadata": {
        "colab": {
          "base_uri": "https://localhost:8080/",
          "height": 542
        },
        "id": "vJxUTxxbus-Z",
        "outputId": "87142a70-90cc-48f6-e163-4fd585113a17"
      },
      "execution_count": 13,
      "outputs": [
        {
          "output_type": "display_data",
          "data": {
            "text/html": [
              "<html>\n",
              "<head><meta charset=\"utf-8\" /></head>\n",
              "<body>\n",
              "    <div>            <script src=\"https://cdnjs.cloudflare.com/ajax/libs/mathjax/2.7.5/MathJax.js?config=TeX-AMS-MML_SVG\"></script><script type=\"text/javascript\">if (window.MathJax && window.MathJax.Hub && window.MathJax.Hub.Config) {window.MathJax.Hub.Config({SVG: {font: \"STIX-Web\"}});}</script>                <script type=\"text/javascript\">window.PlotlyConfig = {MathJaxConfig: 'local'};</script>\n",
              "        <script charset=\"utf-8\" src=\"https://cdn.plot.ly/plotly-2.35.2.min.js\"></script>                <div id=\"ac7bd146-9c41-4223-80e9-aaa8cdcf4208\" class=\"plotly-graph-div\" style=\"height:525px; width:100%;\"></div>            <script type=\"text/javascript\">                                    window.PLOTLYENV=window.PLOTLYENV || {};                                    if (document.getElementById(\"ac7bd146-9c41-4223-80e9-aaa8cdcf4208\")) {                    Plotly.newPlot(                        \"ac7bd146-9c41-4223-80e9-aaa8cdcf4208\",                        [{\"hovertemplate\":\"category=A\\u003cbr\\u003ex=%{x}\\u003cbr\\u003ey=%{y}\\u003cbr\\u003ez=%{z}\\u003cextra\\u003e\\u003c\\u002fextra\\u003e\",\"legendgroup\":\"A\",\"marker\":{\"color\":\"#636efa\",\"symbol\":\"circle\"},\"mode\":\"markers\",\"name\":\"A\",\"scene\":\"scene\",\"showlegend\":true,\"x\":[0.4967141530112327,1.5230298564080254,-0.23415337472333597,0.7674347291529088,-0.4694743859349521,0.5425600435859647,-1.913280244657798,-1.7249178325130328,0.3142473325952739,1.465648768921554,0.06752820468792384,-1.4247481862134568,-0.5443827245251827,0.11092258970986608,-1.1509935774223028,0.37569801834567196,-0.600638689918805,-0.6017066122293969,1.8522781845089378,-1.2208436499710222,-1.9596701238797756,-1.3281860488984305,0.19686123586912352,0.7384665799954104,-0.3011036955892888,-1.4785219903674274,-0.7198442083947086,1.0571222262189157,0.3436182895684614,-0.38508228041631654,1.030999522495951,-0.8392175232226385,0.33126343140356396,0.9755451271223592,-0.47917423784528995,-1.1063349740060282,0.812525822394198,1.356240028570823,1.0035328978920242,0.36163602504763415,0.36139560550841393,1.5380365664659692,-0.03582603910995154,1.5646436558140062,0.08704706823817122,0.0917607765355023,-0.21967188783751193,0.3571125715117464,1.477894044741516,-0.5182702182736474,-0.8084936028931876,-0.5017570435845365,0.32875110965968446,0.5132674331133561,-0.3276621465977682,-0.39210815313215763,0.29612027706457605,0.00511345664246089],\"y\":[-1.4153707420504142,-0.8022772692216189,-0.16128571166600914,0.17457781283183896,0.25755039072276437,-0.07444591576616721,2.463242112485286,-0.19236096478112252,-1.168678037619532,0.7910319470430469,1.4027943109360992,-1.4018510627922809,0.5868570938002703,2.1904556258099785,-0.9905363251306883,-0.5662977296027719,0.09965136508764122,-1.5506634310661327,0.06856297480602733,1.5499344050175394,-0.3220615162056756,0.8135172173696698,-1.2308643164339552,0.22745993460412942,0.1846338585323042,0.25988279424842353,0.7818228717773104,-1.3204566130842763,0.5219415656168976,0.3464482094969757,0.29307247329868125,1.8657745111447566,-1.1913034972026486,0.6565536086338297,-0.9746816702273214,1.158595579007404,0.9633761292443218,0.4127809269364983,1.8967929826539474,-0.2453881160028705,-0.8895144296255233,-0.8158102849654383,-0.0771017094141042,0.3411519748166439,0.01300189187790702,-0.2646568332379561,0.6256673477650062,-0.8571575564162826,-1.0708924980611123,0.4824724152431853,-0.2234627853258509,0.714000494092092,-0.07282891265687277,-1.5148472246858646,-1.245738778711988,0.173180925851182,-0.883857436201133,0.058208718445999896],\"z\":[0.3577873603482833,1.053802052034903,-1.377669367957091,0.5137859509122088,0.5150476863060479,3.852731490654721,0.651391251305798,-0.3152692446403456,-0.23681860674000887,2.3146585666735087,0.6862601903745135,-1.6127158711896517,-0.47193186578943347,1.088950596967366,0.06428001909546277,-1.0777447779293061,-0.7153037092599682,-0.7303666317171367,0.21645858958197486,0.6339190223180112,0.18645431476942764,-0.661786464768388,0.852433334796224,-0.7925207384327007,0.8657551941701215,-1.2002964070557762,-0.3345012358409484,-0.6533292325737119,1.7654542402810969,0.9178619470547761,-1.5193699659540134,1.2669111491866227,0.44381942814622843,0.7746340534293368,-0.926930471578083,-3.2412673400690726,-0.2525681513931603,-1.2477831819648495,-1.4301413779606327,-0.44004448669698376,1.4412732890661155,-1.4358621511794394,1.1631637521549596,0.010233061019587049,0.19905969557347003,0.06980208499001891,0.11351734525124804,0.6621306745210467,1.586016816145352,-1.237815498826849,2.1330333746562666,-1.9520877995225019,0.5883172064845765,-0.6226995198205938,0.8496020970210246,0.35701548596504734,0.8995998754332507,0.8128621188389601],\"type\":\"scatter3d\"},{\"hovertemplate\":\"category=B\\u003cbr\\u003ex=%{x}\\u003cbr\\u003ey=%{y}\\u003cbr\\u003ez=%{z}\\u003cextra\\u003e\\u003c\\u002fextra\\u003e\",\"legendgroup\":\"B\",\"marker\":{\"color\":\"#EF553B\",\"symbol\":\"circle\"},\"mode\":\"markers\",\"name\":\"B\",\"scene\":\"scene\",\"showlegend\":true,\"x\":[-0.13826430117118466,0.6476885381006925,-0.23413695694918055,1.5792128155073915,-0.46341769281246226,-0.46572975357025687,0.24196227156603412,-0.5622875292409727,-1.0128311203344238,-0.9080240755212109,-1.4123037013352915,-0.22577630048653566,-0.2916937497932768,-0.013497224737933921,-1.0577109289559004,0.822544912103189,0.2088635950047554,0.1713682811899705,-0.11564828238824053,-0.4606387709597875,-1.763040155362734,0.324083969394795,-0.6769220003059587,0.6116762888408679,0.9312801191161986,-0.3092123758512146,-0.18565897666381712,-1.1962066240806708,-0.07201012158033385,-0.6451197546051243,-2.6197451040897444,0.8219025043752238,-0.29900735046586746,-1.9875689146008928,0.9154021177020741,-0.5297602037670388,0.09707754934804039,0.9686449905328892,-0.7020530938773524,-1.4635149481321186,0.26105527217988933,-0.23458713337514692],\"y\":[-0.42064532276535904,-0.3427145165267695,0.4040508568145384,1.8861859012105302,-1.9187712152990415,-0.026513875449216878,0.06023020994102644,0.30154734233361247,-0.03471176970524331,1.1428228145150205,0.7519330326867741,-0.9093874547947389,-0.5034756541161992,-1.0623037137261049,0.4735924306351816,-0.9194242342338032,-0.7832532923362371,1.307142754282428,-1.6074832345612275,-1.236950710878082,0.29698467323318606,0.25049285034587654,-0.6800247215784908,0.23225369716100355,-0.7143514180263678,0.4738329209117875,0.787084603742452,-0.8206823183517105,0.82206015999449,-0.7537361643574896,0.27669079933001905,0.8271832490360238,1.4535340771573169,2.720169166589619,0.47323762457354485,-0.846793718068405,-0.4465149520670211,0.8563987943234723,0.21409374413020396,0.3853173797288368,0.1537251059455279,-1.142970297830623],\"z\":[0.5607845263682344,1.083051243175277,-0.9378250399151228,0.5150352672086598,0.570890510693167,1.135565640180599,0.9540017634932023,0.7589692204932674,-0.7728252145375718,-0.48536354782910346,0.08187413938632256,-1.867265192591748,0.6795977489346758,0.045571839903813784,-0.6516003476058171,2.1439440893253257,-2.025142586657607,-0.11473644146689901,0.5049872789804571,-0.4749453111609562,0.40498171096095553,-1.2608839543350452,2.1221561970126332,1.0324652605511468,-0.48423407286625136,-0.7076694656187807,-0.05952535606180008,-1.0243876413342898,1.6324113039316352,0.13074057728609134,-0.9815086510479509,0.46210347426327075,-0.6002168771587947,-0.3853135968617602,-0.15178509503558332,0.28099186773503265,-0.20812225035727522,-0.4930009346588328,-0.5893647569442115,-0.6929095952606542,0.30729952087660933,0.6296288419236122],\"type\":\"scatter3d\"}],                        {\"template\":{\"data\":{\"histogram2dcontour\":[{\"type\":\"histogram2dcontour\",\"colorbar\":{\"outlinewidth\":0,\"ticks\":\"\"},\"colorscale\":[[0.0,\"#0d0887\"],[0.1111111111111111,\"#46039f\"],[0.2222222222222222,\"#7201a8\"],[0.3333333333333333,\"#9c179e\"],[0.4444444444444444,\"#bd3786\"],[0.5555555555555556,\"#d8576b\"],[0.6666666666666666,\"#ed7953\"],[0.7777777777777778,\"#fb9f3a\"],[0.8888888888888888,\"#fdca26\"],[1.0,\"#f0f921\"]]}],\"choropleth\":[{\"type\":\"choropleth\",\"colorbar\":{\"outlinewidth\":0,\"ticks\":\"\"}}],\"histogram2d\":[{\"type\":\"histogram2d\",\"colorbar\":{\"outlinewidth\":0,\"ticks\":\"\"},\"colorscale\":[[0.0,\"#0d0887\"],[0.1111111111111111,\"#46039f\"],[0.2222222222222222,\"#7201a8\"],[0.3333333333333333,\"#9c179e\"],[0.4444444444444444,\"#bd3786\"],[0.5555555555555556,\"#d8576b\"],[0.6666666666666666,\"#ed7953\"],[0.7777777777777778,\"#fb9f3a\"],[0.8888888888888888,\"#fdca26\"],[1.0,\"#f0f921\"]]}],\"heatmap\":[{\"type\":\"heatmap\",\"colorbar\":{\"outlinewidth\":0,\"ticks\":\"\"},\"colorscale\":[[0.0,\"#0d0887\"],[0.1111111111111111,\"#46039f\"],[0.2222222222222222,\"#7201a8\"],[0.3333333333333333,\"#9c179e\"],[0.4444444444444444,\"#bd3786\"],[0.5555555555555556,\"#d8576b\"],[0.6666666666666666,\"#ed7953\"],[0.7777777777777778,\"#fb9f3a\"],[0.8888888888888888,\"#fdca26\"],[1.0,\"#f0f921\"]]}],\"heatmapgl\":[{\"type\":\"heatmapgl\",\"colorbar\":{\"outlinewidth\":0,\"ticks\":\"\"},\"colorscale\":[[0.0,\"#0d0887\"],[0.1111111111111111,\"#46039f\"],[0.2222222222222222,\"#7201a8\"],[0.3333333333333333,\"#9c179e\"],[0.4444444444444444,\"#bd3786\"],[0.5555555555555556,\"#d8576b\"],[0.6666666666666666,\"#ed7953\"],[0.7777777777777778,\"#fb9f3a\"],[0.8888888888888888,\"#fdca26\"],[1.0,\"#f0f921\"]]}],\"contourcarpet\":[{\"type\":\"contourcarpet\",\"colorbar\":{\"outlinewidth\":0,\"ticks\":\"\"}}],\"contour\":[{\"type\":\"contour\",\"colorbar\":{\"outlinewidth\":0,\"ticks\":\"\"},\"colorscale\":[[0.0,\"#0d0887\"],[0.1111111111111111,\"#46039f\"],[0.2222222222222222,\"#7201a8\"],[0.3333333333333333,\"#9c179e\"],[0.4444444444444444,\"#bd3786\"],[0.5555555555555556,\"#d8576b\"],[0.6666666666666666,\"#ed7953\"],[0.7777777777777778,\"#fb9f3a\"],[0.8888888888888888,\"#fdca26\"],[1.0,\"#f0f921\"]]}],\"surface\":[{\"type\":\"surface\",\"colorbar\":{\"outlinewidth\":0,\"ticks\":\"\"},\"colorscale\":[[0.0,\"#0d0887\"],[0.1111111111111111,\"#46039f\"],[0.2222222222222222,\"#7201a8\"],[0.3333333333333333,\"#9c179e\"],[0.4444444444444444,\"#bd3786\"],[0.5555555555555556,\"#d8576b\"],[0.6666666666666666,\"#ed7953\"],[0.7777777777777778,\"#fb9f3a\"],[0.8888888888888888,\"#fdca26\"],[1.0,\"#f0f921\"]]}],\"mesh3d\":[{\"type\":\"mesh3d\",\"colorbar\":{\"outlinewidth\":0,\"ticks\":\"\"}}],\"scatter\":[{\"fillpattern\":{\"fillmode\":\"overlay\",\"size\":10,\"solidity\":0.2},\"type\":\"scatter\"}],\"parcoords\":[{\"type\":\"parcoords\",\"line\":{\"colorbar\":{\"outlinewidth\":0,\"ticks\":\"\"}}}],\"scatterpolargl\":[{\"type\":\"scatterpolargl\",\"marker\":{\"colorbar\":{\"outlinewidth\":0,\"ticks\":\"\"}}}],\"bar\":[{\"error_x\":{\"color\":\"#2a3f5f\"},\"error_y\":{\"color\":\"#2a3f5f\"},\"marker\":{\"line\":{\"color\":\"#E5ECF6\",\"width\":0.5},\"pattern\":{\"fillmode\":\"overlay\",\"size\":10,\"solidity\":0.2}},\"type\":\"bar\"}],\"scattergeo\":[{\"type\":\"scattergeo\",\"marker\":{\"colorbar\":{\"outlinewidth\":0,\"ticks\":\"\"}}}],\"scatterpolar\":[{\"type\":\"scatterpolar\",\"marker\":{\"colorbar\":{\"outlinewidth\":0,\"ticks\":\"\"}}}],\"histogram\":[{\"marker\":{\"pattern\":{\"fillmode\":\"overlay\",\"size\":10,\"solidity\":0.2}},\"type\":\"histogram\"}],\"scattergl\":[{\"type\":\"scattergl\",\"marker\":{\"colorbar\":{\"outlinewidth\":0,\"ticks\":\"\"}}}],\"scatter3d\":[{\"type\":\"scatter3d\",\"line\":{\"colorbar\":{\"outlinewidth\":0,\"ticks\":\"\"}},\"marker\":{\"colorbar\":{\"outlinewidth\":0,\"ticks\":\"\"}}}],\"scattermapbox\":[{\"type\":\"scattermapbox\",\"marker\":{\"colorbar\":{\"outlinewidth\":0,\"ticks\":\"\"}}}],\"scatterternary\":[{\"type\":\"scatterternary\",\"marker\":{\"colorbar\":{\"outlinewidth\":0,\"ticks\":\"\"}}}],\"scattercarpet\":[{\"type\":\"scattercarpet\",\"marker\":{\"colorbar\":{\"outlinewidth\":0,\"ticks\":\"\"}}}],\"carpet\":[{\"aaxis\":{\"endlinecolor\":\"#2a3f5f\",\"gridcolor\":\"white\",\"linecolor\":\"white\",\"minorgridcolor\":\"white\",\"startlinecolor\":\"#2a3f5f\"},\"baxis\":{\"endlinecolor\":\"#2a3f5f\",\"gridcolor\":\"white\",\"linecolor\":\"white\",\"minorgridcolor\":\"white\",\"startlinecolor\":\"#2a3f5f\"},\"type\":\"carpet\"}],\"table\":[{\"cells\":{\"fill\":{\"color\":\"#EBF0F8\"},\"line\":{\"color\":\"white\"}},\"header\":{\"fill\":{\"color\":\"#C8D4E3\"},\"line\":{\"color\":\"white\"}},\"type\":\"table\"}],\"barpolar\":[{\"marker\":{\"line\":{\"color\":\"#E5ECF6\",\"width\":0.5},\"pattern\":{\"fillmode\":\"overlay\",\"size\":10,\"solidity\":0.2}},\"type\":\"barpolar\"}],\"pie\":[{\"automargin\":true,\"type\":\"pie\"}]},\"layout\":{\"autotypenumbers\":\"strict\",\"colorway\":[\"#636efa\",\"#EF553B\",\"#00cc96\",\"#ab63fa\",\"#FFA15A\",\"#19d3f3\",\"#FF6692\",\"#B6E880\",\"#FF97FF\",\"#FECB52\"],\"font\":{\"color\":\"#2a3f5f\"},\"hovermode\":\"closest\",\"hoverlabel\":{\"align\":\"left\"},\"paper_bgcolor\":\"white\",\"plot_bgcolor\":\"#E5ECF6\",\"polar\":{\"bgcolor\":\"#E5ECF6\",\"angularaxis\":{\"gridcolor\":\"white\",\"linecolor\":\"white\",\"ticks\":\"\"},\"radialaxis\":{\"gridcolor\":\"white\",\"linecolor\":\"white\",\"ticks\":\"\"}},\"ternary\":{\"bgcolor\":\"#E5ECF6\",\"aaxis\":{\"gridcolor\":\"white\",\"linecolor\":\"white\",\"ticks\":\"\"},\"baxis\":{\"gridcolor\":\"white\",\"linecolor\":\"white\",\"ticks\":\"\"},\"caxis\":{\"gridcolor\":\"white\",\"linecolor\":\"white\",\"ticks\":\"\"}},\"coloraxis\":{\"colorbar\":{\"outlinewidth\":0,\"ticks\":\"\"}},\"colorscale\":{\"sequential\":[[0.0,\"#0d0887\"],[0.1111111111111111,\"#46039f\"],[0.2222222222222222,\"#7201a8\"],[0.3333333333333333,\"#9c179e\"],[0.4444444444444444,\"#bd3786\"],[0.5555555555555556,\"#d8576b\"],[0.6666666666666666,\"#ed7953\"],[0.7777777777777778,\"#fb9f3a\"],[0.8888888888888888,\"#fdca26\"],[1.0,\"#f0f921\"]],\"sequentialminus\":[[0.0,\"#0d0887\"],[0.1111111111111111,\"#46039f\"],[0.2222222222222222,\"#7201a8\"],[0.3333333333333333,\"#9c179e\"],[0.4444444444444444,\"#bd3786\"],[0.5555555555555556,\"#d8576b\"],[0.6666666666666666,\"#ed7953\"],[0.7777777777777778,\"#fb9f3a\"],[0.8888888888888888,\"#fdca26\"],[1.0,\"#f0f921\"]],\"diverging\":[[0,\"#8e0152\"],[0.1,\"#c51b7d\"],[0.2,\"#de77ae\"],[0.3,\"#f1b6da\"],[0.4,\"#fde0ef\"],[0.5,\"#f7f7f7\"],[0.6,\"#e6f5d0\"],[0.7,\"#b8e186\"],[0.8,\"#7fbc41\"],[0.9,\"#4d9221\"],[1,\"#276419\"]]},\"xaxis\":{\"gridcolor\":\"white\",\"linecolor\":\"white\",\"ticks\":\"\",\"title\":{\"standoff\":15},\"zerolinecolor\":\"white\",\"automargin\":true,\"zerolinewidth\":2},\"yaxis\":{\"gridcolor\":\"white\",\"linecolor\":\"white\",\"ticks\":\"\",\"title\":{\"standoff\":15},\"zerolinecolor\":\"white\",\"automargin\":true,\"zerolinewidth\":2},\"scene\":{\"xaxis\":{\"backgroundcolor\":\"#E5ECF6\",\"gridcolor\":\"white\",\"linecolor\":\"white\",\"showbackground\":true,\"ticks\":\"\",\"zerolinecolor\":\"white\",\"gridwidth\":2},\"yaxis\":{\"backgroundcolor\":\"#E5ECF6\",\"gridcolor\":\"white\",\"linecolor\":\"white\",\"showbackground\":true,\"ticks\":\"\",\"zerolinecolor\":\"white\",\"gridwidth\":2},\"zaxis\":{\"backgroundcolor\":\"#E5ECF6\",\"gridcolor\":\"white\",\"linecolor\":\"white\",\"showbackground\":true,\"ticks\":\"\",\"zerolinecolor\":\"white\",\"gridwidth\":2}},\"shapedefaults\":{\"line\":{\"color\":\"#2a3f5f\"}},\"annotationdefaults\":{\"arrowcolor\":\"#2a3f5f\",\"arrowhead\":0,\"arrowwidth\":1},\"geo\":{\"bgcolor\":\"white\",\"landcolor\":\"#E5ECF6\",\"subunitcolor\":\"white\",\"showland\":true,\"showlakes\":true,\"lakecolor\":\"white\"},\"title\":{\"x\":0.05},\"mapbox\":{\"style\":\"light\"}}},\"scene\":{\"domain\":{\"x\":[0.0,1.0],\"y\":[0.0,1.0]},\"xaxis\":{\"title\":{\"text\":\"x\"}},\"yaxis\":{\"title\":{\"text\":\"y\"}},\"zaxis\":{\"title\":{\"text\":\"z\"}}},\"legend\":{\"title\":{\"text\":\"category\"},\"tracegroupgap\":0},\"title\":{\"text\":\"3D Scatter Plot Example\"}},                        {\"responsive\": true}                    ).then(function(){\n",
              "                            \n",
              "var gd = document.getElementById('ac7bd146-9c41-4223-80e9-aaa8cdcf4208');\n",
              "var x = new MutationObserver(function (mutations, observer) {{\n",
              "        var display = window.getComputedStyle(gd).display;\n",
              "        if (!display || display === 'none') {{\n",
              "            console.log([gd, 'removed!']);\n",
              "            Plotly.purge(gd);\n",
              "            observer.disconnect();\n",
              "        }}\n",
              "}});\n",
              "\n",
              "// Listen for the removal of the full notebook cells\n",
              "var notebookContainer = gd.closest('#notebook-container');\n",
              "if (notebookContainer) {{\n",
              "    x.observe(notebookContainer, {childList: true});\n",
              "}}\n",
              "\n",
              "// Listen for the clearing of the current output cell\n",
              "var outputEl = gd.closest('.output');\n",
              "if (outputEl) {{\n",
              "    x.observe(outputEl, {childList: true});\n",
              "}}\n",
              "\n",
              "                        })                };                            </script>        </div>\n",
              "</body>\n",
              "</html>"
            ]
          },
          "metadata": {}
        }
      ]
    }
  ]
}